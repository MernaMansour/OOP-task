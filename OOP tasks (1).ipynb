{
 "cells": [
  {
   "cell_type": "code",
   "execution_count": null,
   "id": "7836a881",
   "metadata": {},
   "outputs": [],
   "source": [
    "task :\n",
    "    \n",
    "    make a calculator class that add , subtract and multiblicate two nums"
   ]
  },
  {
   "cell_type": "code",
   "execution_count": 1,
   "id": "9ec48c13",
   "metadata": {},
   "outputs": [
    {
     "data": {
      "text/plain": [
       "15"
      ]
     },
     "execution_count": 1,
     "metadata": {},
     "output_type": "execute_result"
    }
   ],
   "source": [
    "class claculator():\n",
    "    def add(self,a,b):\n",
    "        return a+b\n",
    "    def substract(self,a,b):\n",
    "        return a-b\n",
    "    def mult(self,a,b):\n",
    "        return a*b\n",
    "x=claculator()\n",
    "x.add(2,3)\n",
    "x.substract(5,2)\n",
    "x.mult(3,5)\n",
    "        "
   ]
  },
  {
   "cell_type": "code",
   "execution_count": 9,
   "id": "5723ffd0",
   "metadata": {},
   "outputs": [],
   "source": [
    "class safe():\n",
    "    def __init__(self):\n",
    "        x=str(input('enter the process'))\n",
    "        if x=='login':\n",
    "            self.login()\n",
    "        elif x=='register':\n",
    "            self.safe_register()\n",
    "    def login(self):\n",
    "        acc=input('please enter you account ')\n",
    "        password=input('please enter your pass ')\n",
    "        if acc==safe.account and password==safe.password:\n",
    "            return True\n",
    "        else:\n",
    "            return False\n",
    "    def safe_register(self):\n",
    "        safe.account=input('enter your account ')\n",
    "        safe.password=input('enter your pass ')\n",
    "          \n"
   ]
  },
  {
   "cell_type": "code",
   "execution_count": 10,
   "id": "2fceebf1",
   "metadata": {},
   "outputs": [
    {
     "name": "stdout",
     "output_type": "stream",
     "text": [
      "enter the processregister\n",
      "enter your accountmerna\n",
      "enter your pass123\n"
     ]
    }
   ],
   "source": [
    "k=safe()\n",
    "\n"
   ]
  },
  {
   "cell_type": "code",
   "execution_count": 11,
   "id": "8c181615",
   "metadata": {},
   "outputs": [
    {
     "name": "stdout",
     "output_type": "stream",
     "text": [
      "please enter you accountahmed\n",
      "please enter your pass114\n"
     ]
    },
    {
     "data": {
      "text/plain": [
       "False"
      ]
     },
     "execution_count": 11,
     "metadata": {},
     "output_type": "execute_result"
    }
   ],
   "source": [
    "k.login()"
   ]
  },
  {
   "cell_type": "code",
   "execution_count": null,
   "id": "cb162f41",
   "metadata": {},
   "outputs": [],
   "source": []
  }
 ],
 "metadata": {
  "kernelspec": {
   "display_name": "Python 3 (ipykernel)",
   "language": "python",
   "name": "python3"
  },
  "language_info": {
   "codemirror_mode": {
    "name": "ipython",
    "version": 3
   },
   "file_extension": ".py",
   "mimetype": "text/x-python",
   "name": "python",
   "nbconvert_exporter": "python",
   "pygments_lexer": "ipython3",
   "version": "3.9.12"
  }
 },
 "nbformat": 4,
 "nbformat_minor": 5
}
